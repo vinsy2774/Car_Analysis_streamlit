{
 "cells": [
  {
   "cell_type": "markdown",
   "id": "c8335d50",
   "metadata": {},
   "source": [
    "# Analysis of used Cars"
   ]
  },
  {
   "cell_type": "markdown",
   "id": "21693691",
   "metadata": {},
   "source": [
    "In this Project, I have used a cars dataset from the kaggle website.\n",
    "\n",
    "Dataset Link : [cars dataset](https://www.kaggle.com/datasets/ujjwalwadhwa/cars24com-used-cars-dataset)"
   ]
  },
  {
   "cell_type": "markdown",
   "id": "9ac11d4c",
   "metadata": {},
   "source": [
    "## Problem Statement"
   ]
  },
  {
   "cell_type": "markdown",
   "id": "1531e1cf",
   "metadata": {},
   "source": [
    "The main problem, I am addressing here is the market value for the used cars under certain conditions such as car model, previous price, distance travelled, no. of owners, gas type, engine condition etc.,"
   ]
  },
  {
   "cell_type": "markdown",
   "id": "53188324",
   "metadata": {},
   "source": [
    "List of the questions, I am going to answer :\n",
    "\n",
    "1. How many cars are of each model? \n",
    "2. What are the price differences for the each model?\n",
    "3. How many cars are of each gas type?\n",
    "4. Does the price varies for the different gas type?\n",
    "5. What is the maximum, minimum, average distances travelled? Does the price vary with the distance travelled?"
   ]
  },
  {
   "cell_type": "markdown",
   "id": "7f35dd18",
   "metadata": {},
   "source": [
    "###  Importing the necessary libraries for the analysis"
   ]
  },
  {
   "cell_type": "code",
   "execution_count": 58,
   "id": "c899c7e0",
   "metadata": {},
   "outputs": [],
   "source": [
    "import pandas as pd\n",
    "import numpy as np"
   ]
  },
  {
   "cell_type": "code",
   "execution_count": 59,
   "id": "c3bdb5c4",
   "metadata": {},
   "outputs": [
    {
     "data": {
      "text/html": [
       "<div>\n",
       "<style scoped>\n",
       "    .dataframe tbody tr th:only-of-type {\n",
       "        vertical-align: middle;\n",
       "    }\n",
       "\n",
       "    .dataframe tbody tr th {\n",
       "        vertical-align: top;\n",
       "    }\n",
       "\n",
       "    .dataframe thead th {\n",
       "        text-align: right;\n",
       "    }\n",
       "</style>\n",
       "<table border=\"1\" class=\"dataframe\">\n",
       "  <thead>\n",
       "    <tr style=\"text-align: right;\">\n",
       "      <th></th>\n",
       "      <th>Unnamed: 0</th>\n",
       "      <th>Car Name</th>\n",
       "      <th>Year</th>\n",
       "      <th>Distance</th>\n",
       "      <th>Owner</th>\n",
       "      <th>Fuel</th>\n",
       "      <th>Location</th>\n",
       "      <th>Drive</th>\n",
       "      <th>Type</th>\n",
       "      <th>Price</th>\n",
       "    </tr>\n",
       "  </thead>\n",
       "  <tbody>\n",
       "    <tr>\n",
       "      <th>0</th>\n",
       "      <td>0</td>\n",
       "      <td>Maruti S PRESSO</td>\n",
       "      <td>2022.0</td>\n",
       "      <td>3878</td>\n",
       "      <td>1</td>\n",
       "      <td>PETROL</td>\n",
       "      <td>HR-98</td>\n",
       "      <td>Manual</td>\n",
       "      <td>HatchBack</td>\n",
       "      <td>514000</td>\n",
       "    </tr>\n",
       "    <tr>\n",
       "      <th>1</th>\n",
       "      <td>1</td>\n",
       "      <td>Hyundai Xcent</td>\n",
       "      <td>2018.0</td>\n",
       "      <td>32041</td>\n",
       "      <td>1</td>\n",
       "      <td>PETROL</td>\n",
       "      <td>TN-22</td>\n",
       "      <td>Manual</td>\n",
       "      <td>Sedan</td>\n",
       "      <td>674000</td>\n",
       "    </tr>\n",
       "    <tr>\n",
       "      <th>2</th>\n",
       "      <td>2</td>\n",
       "      <td>Tata Safari</td>\n",
       "      <td>2021.0</td>\n",
       "      <td>96339</td>\n",
       "      <td>1</td>\n",
       "      <td>DIESEL</td>\n",
       "      <td>TS-08</td>\n",
       "      <td>Automatic</td>\n",
       "      <td>SUV</td>\n",
       "      <td>1952000</td>\n",
       "    </tr>\n",
       "    <tr>\n",
       "      <th>3</th>\n",
       "      <td>3</td>\n",
       "      <td>Maruti Vitara Brezza</td>\n",
       "      <td>2019.0</td>\n",
       "      <td>51718</td>\n",
       "      <td>1</td>\n",
       "      <td>DIESEL</td>\n",
       "      <td>WB-24</td>\n",
       "      <td>Manual</td>\n",
       "      <td>SUV</td>\n",
       "      <td>690000</td>\n",
       "    </tr>\n",
       "    <tr>\n",
       "      <th>4</th>\n",
       "      <td>4</td>\n",
       "      <td>Tata Tiago</td>\n",
       "      <td>2021.0</td>\n",
       "      <td>19811</td>\n",
       "      <td>1</td>\n",
       "      <td>PETROL</td>\n",
       "      <td>HR-51</td>\n",
       "      <td>Manual</td>\n",
       "      <td>HatchBack</td>\n",
       "      <td>526000</td>\n",
       "    </tr>\n",
       "  </tbody>\n",
       "</table>\n",
       "</div>"
      ],
      "text/plain": [
       "   Unnamed: 0              Car Name    Year  Distance  Owner    Fuel Location  \\\n",
       "0           0       Maruti S PRESSO  2022.0      3878      1  PETROL    HR-98   \n",
       "1           1         Hyundai Xcent  2018.0     32041      1  PETROL    TN-22   \n",
       "2           2           Tata Safari  2021.0     96339      1  DIESEL    TS-08   \n",
       "3           3  Maruti Vitara Brezza  2019.0     51718      1  DIESEL    WB-24   \n",
       "4           4            Tata Tiago  2021.0     19811      1  PETROL    HR-51   \n",
       "\n",
       "       Drive       Type    Price  \n",
       "0     Manual  HatchBack   514000  \n",
       "1     Manual      Sedan   674000  \n",
       "2  Automatic        SUV  1952000  \n",
       "3     Manual        SUV   690000  \n",
       "4     Manual  HatchBack   526000  "
      ]
     },
     "execution_count": 59,
     "metadata": {},
     "output_type": "execute_result"
    }
   ],
   "source": [
    "df = pd.read_csv('cars_24_combined.csv')\n",
    "df.head()"
   ]
  },
  {
   "cell_type": "code",
   "execution_count": 60,
   "id": "96f4a502",
   "metadata": {},
   "outputs": [
    {
     "data": {
      "text/plain": [
       "(8015, 10)"
      ]
     },
     "execution_count": 60,
     "metadata": {},
     "output_type": "execute_result"
    }
   ],
   "source": [
    "df.shape"
   ]
  },
  {
   "cell_type": "code",
   "execution_count": 61,
   "id": "7cfaf08b",
   "metadata": {},
   "outputs": [
    {
     "name": "stdout",
     "output_type": "stream",
     "text": [
      "<class 'pandas.core.frame.DataFrame'>\n",
      "RangeIndex: 8015 entries, 0 to 8014\n",
      "Data columns (total 10 columns):\n",
      " #   Column      Non-Null Count  Dtype  \n",
      "---  ------      --------------  -----  \n",
      " 0   Unnamed: 0  8015 non-null   int64  \n",
      " 1   Car Name    8014 non-null   object \n",
      " 2   Year        8014 non-null   float64\n",
      " 3   Distance    8015 non-null   int64  \n",
      " 4   Owner       8015 non-null   int64  \n",
      " 5   Fuel        8015 non-null   object \n",
      " 6   Location    7802 non-null   object \n",
      " 7   Drive       8015 non-null   object \n",
      " 8   Type        8015 non-null   object \n",
      " 9   Price       8015 non-null   int64  \n",
      "dtypes: float64(1), int64(4), object(5)\n",
      "memory usage: 626.3+ KB\n"
     ]
    }
   ],
   "source": [
    "df.info()"
   ]
  },
  {
   "cell_type": "code",
   "execution_count": 63,
   "id": "d62cf64d",
   "metadata": {},
   "outputs": [
    {
     "data": {
      "text/html": [
       "<div>\n",
       "<style scoped>\n",
       "    .dataframe tbody tr th:only-of-type {\n",
       "        vertical-align: middle;\n",
       "    }\n",
       "\n",
       "    .dataframe tbody tr th {\n",
       "        vertical-align: top;\n",
       "    }\n",
       "\n",
       "    .dataframe thead th {\n",
       "        text-align: right;\n",
       "    }\n",
       "</style>\n",
       "<table border=\"1\" class=\"dataframe\">\n",
       "  <thead>\n",
       "    <tr style=\"text-align: right;\">\n",
       "      <th></th>\n",
       "      <th>Unnamed: 0</th>\n",
       "      <th>Year</th>\n",
       "      <th>Distance</th>\n",
       "      <th>Owner</th>\n",
       "      <th>Price</th>\n",
       "    </tr>\n",
       "  </thead>\n",
       "  <tbody>\n",
       "    <tr>\n",
       "      <th>count</th>\n",
       "      <td>8015.000000</td>\n",
       "      <td>8014.000000</td>\n",
       "      <td>8015.000000</td>\n",
       "      <td>8015.000000</td>\n",
       "      <td>8.015000e+03</td>\n",
       "    </tr>\n",
       "    <tr>\n",
       "      <th>mean</th>\n",
       "      <td>4007.000000</td>\n",
       "      <td>2016.995009</td>\n",
       "      <td>52621.411728</td>\n",
       "      <td>1.300187</td>\n",
       "      <td>5.748829e+05</td>\n",
       "    </tr>\n",
       "    <tr>\n",
       "      <th>std</th>\n",
       "      <td>2313.875537</td>\n",
       "      <td>2.861454</td>\n",
       "      <td>29182.922728</td>\n",
       "      <td>0.510893</td>\n",
       "      <td>2.651049e+05</td>\n",
       "    </tr>\n",
       "    <tr>\n",
       "      <th>min</th>\n",
       "      <td>0.000000</td>\n",
       "      <td>2010.000000</td>\n",
       "      <td>0.000000</td>\n",
       "      <td>1.000000</td>\n",
       "      <td>1.190000e+05</td>\n",
       "    </tr>\n",
       "    <tr>\n",
       "      <th>25%</th>\n",
       "      <td>2003.500000</td>\n",
       "      <td>2015.000000</td>\n",
       "      <td>30730.000000</td>\n",
       "      <td>1.000000</td>\n",
       "      <td>3.930000e+05</td>\n",
       "    </tr>\n",
       "    <tr>\n",
       "      <th>50%</th>\n",
       "      <td>4007.000000</td>\n",
       "      <td>2017.000000</td>\n",
       "      <td>50359.000000</td>\n",
       "      <td>1.000000</td>\n",
       "      <td>5.350000e+05</td>\n",
       "    </tr>\n",
       "    <tr>\n",
       "      <th>75%</th>\n",
       "      <td>6010.500000</td>\n",
       "      <td>2019.000000</td>\n",
       "      <td>71762.000000</td>\n",
       "      <td>2.000000</td>\n",
       "      <td>6.980000e+05</td>\n",
       "    </tr>\n",
       "    <tr>\n",
       "      <th>max</th>\n",
       "      <td>8014.000000</td>\n",
       "      <td>2023.000000</td>\n",
       "      <td>971212.000000</td>\n",
       "      <td>4.000000</td>\n",
       "      <td>3.300000e+06</td>\n",
       "    </tr>\n",
       "  </tbody>\n",
       "</table>\n",
       "</div>"
      ],
      "text/plain": [
       "        Unnamed: 0         Year       Distance        Owner         Price\n",
       "count  8015.000000  8014.000000    8015.000000  8015.000000  8.015000e+03\n",
       "mean   4007.000000  2016.995009   52621.411728     1.300187  5.748829e+05\n",
       "std    2313.875537     2.861454   29182.922728     0.510893  2.651049e+05\n",
       "min       0.000000  2010.000000       0.000000     1.000000  1.190000e+05\n",
       "25%    2003.500000  2015.000000   30730.000000     1.000000  3.930000e+05\n",
       "50%    4007.000000  2017.000000   50359.000000     1.000000  5.350000e+05\n",
       "75%    6010.500000  2019.000000   71762.000000     2.000000  6.980000e+05\n",
       "max    8014.000000  2023.000000  971212.000000     4.000000  3.300000e+06"
      ]
     },
     "execution_count": 63,
     "metadata": {},
     "output_type": "execute_result"
    }
   ],
   "source": [
    "df.describe()"
   ]
  },
  {
   "cell_type": "code",
   "execution_count": 64,
   "id": "b66ba94c",
   "metadata": {},
   "outputs": [
    {
     "data": {
      "text/plain": [
       "Index(['Unnamed: 0', 'Car Name', 'Year', 'Distance', 'Owner', 'Fuel',\n",
       "       'Location', 'Drive', 'Type', 'Price'],\n",
       "      dtype='object')"
      ]
     },
     "execution_count": 64,
     "metadata": {},
     "output_type": "execute_result"
    }
   ],
   "source": [
    "df.columns"
   ]
  },
  {
   "cell_type": "code",
   "execution_count": 65,
   "id": "479c5a5f",
   "metadata": {},
   "outputs": [
    {
     "data": {
      "text/html": [
       "<div>\n",
       "<style scoped>\n",
       "    .dataframe tbody tr th:only-of-type {\n",
       "        vertical-align: middle;\n",
       "    }\n",
       "\n",
       "    .dataframe tbody tr th {\n",
       "        vertical-align: top;\n",
       "    }\n",
       "\n",
       "    .dataframe thead th {\n",
       "        text-align: right;\n",
       "    }\n",
       "</style>\n",
       "<table border=\"1\" class=\"dataframe\">\n",
       "  <thead>\n",
       "    <tr style=\"text-align: right;\">\n",
       "      <th></th>\n",
       "      <th>Car Name</th>\n",
       "      <th>Year</th>\n",
       "      <th>Distance</th>\n",
       "      <th>Owner</th>\n",
       "      <th>Fuel</th>\n",
       "      <th>Location</th>\n",
       "      <th>Drive</th>\n",
       "      <th>Type</th>\n",
       "      <th>Price</th>\n",
       "    </tr>\n",
       "  </thead>\n",
       "  <tbody>\n",
       "    <tr>\n",
       "      <th>0</th>\n",
       "      <td>Maruti S PRESSO</td>\n",
       "      <td>2022.0</td>\n",
       "      <td>3878</td>\n",
       "      <td>1</td>\n",
       "      <td>PETROL</td>\n",
       "      <td>HR-98</td>\n",
       "      <td>Manual</td>\n",
       "      <td>HatchBack</td>\n",
       "      <td>514000</td>\n",
       "    </tr>\n",
       "    <tr>\n",
       "      <th>1</th>\n",
       "      <td>Hyundai Xcent</td>\n",
       "      <td>2018.0</td>\n",
       "      <td>32041</td>\n",
       "      <td>1</td>\n",
       "      <td>PETROL</td>\n",
       "      <td>TN-22</td>\n",
       "      <td>Manual</td>\n",
       "      <td>Sedan</td>\n",
       "      <td>674000</td>\n",
       "    </tr>\n",
       "    <tr>\n",
       "      <th>2</th>\n",
       "      <td>Tata Safari</td>\n",
       "      <td>2021.0</td>\n",
       "      <td>96339</td>\n",
       "      <td>1</td>\n",
       "      <td>DIESEL</td>\n",
       "      <td>TS-08</td>\n",
       "      <td>Automatic</td>\n",
       "      <td>SUV</td>\n",
       "      <td>1952000</td>\n",
       "    </tr>\n",
       "    <tr>\n",
       "      <th>3</th>\n",
       "      <td>Maruti Vitara Brezza</td>\n",
       "      <td>2019.0</td>\n",
       "      <td>51718</td>\n",
       "      <td>1</td>\n",
       "      <td>DIESEL</td>\n",
       "      <td>WB-24</td>\n",
       "      <td>Manual</td>\n",
       "      <td>SUV</td>\n",
       "      <td>690000</td>\n",
       "    </tr>\n",
       "    <tr>\n",
       "      <th>4</th>\n",
       "      <td>Tata Tiago</td>\n",
       "      <td>2021.0</td>\n",
       "      <td>19811</td>\n",
       "      <td>1</td>\n",
       "      <td>PETROL</td>\n",
       "      <td>HR-51</td>\n",
       "      <td>Manual</td>\n",
       "      <td>HatchBack</td>\n",
       "      <td>526000</td>\n",
       "    </tr>\n",
       "  </tbody>\n",
       "</table>\n",
       "</div>"
      ],
      "text/plain": [
       "               Car Name    Year  Distance  Owner    Fuel Location      Drive  \\\n",
       "0       Maruti S PRESSO  2022.0      3878      1  PETROL    HR-98     Manual   \n",
       "1         Hyundai Xcent  2018.0     32041      1  PETROL    TN-22     Manual   \n",
       "2           Tata Safari  2021.0     96339      1  DIESEL    TS-08  Automatic   \n",
       "3  Maruti Vitara Brezza  2019.0     51718      1  DIESEL    WB-24     Manual   \n",
       "4            Tata Tiago  2021.0     19811      1  PETROL    HR-51     Manual   \n",
       "\n",
       "        Type    Price  \n",
       "0  HatchBack   514000  \n",
       "1      Sedan   674000  \n",
       "2        SUV  1952000  \n",
       "3        SUV   690000  \n",
       "4  HatchBack   526000  "
      ]
     },
     "execution_count": 65,
     "metadata": {},
     "output_type": "execute_result"
    }
   ],
   "source": [
    "df = df[['Car Name', 'Year', 'Distance', 'Owner', 'Fuel', \\\n",
    "         'Location', 'Drive', 'Type', 'Price']]\n",
    "df.head()"
   ]
  },
  {
   "cell_type": "code",
   "execution_count": 66,
   "id": "769f980d",
   "metadata": {},
   "outputs": [],
   "source": [
    "df.rename({'Car Name':'Car_Name'},axis=1,inplace=True)"
   ]
  },
  {
   "cell_type": "code",
   "execution_count": 106,
   "id": "de7307d1",
   "metadata": {},
   "outputs": [
    {
     "data": {
      "text/html": [
       "<div>\n",
       "<style scoped>\n",
       "    .dataframe tbody tr th:only-of-type {\n",
       "        vertical-align: middle;\n",
       "    }\n",
       "\n",
       "    .dataframe tbody tr th {\n",
       "        vertical-align: top;\n",
       "    }\n",
       "\n",
       "    .dataframe thead th {\n",
       "        text-align: right;\n",
       "    }\n",
       "</style>\n",
       "<table border=\"1\" class=\"dataframe\">\n",
       "  <thead>\n",
       "    <tr style=\"text-align: right;\">\n",
       "      <th></th>\n",
       "      <th>Car_Name</th>\n",
       "      <th>Year</th>\n",
       "      <th>Distance</th>\n",
       "      <th>Owner</th>\n",
       "      <th>Fuel</th>\n",
       "      <th>Drive</th>\n",
       "      <th>Type</th>\n",
       "      <th>Price</th>\n",
       "    </tr>\n",
       "  </thead>\n",
       "  <tbody>\n",
       "    <tr>\n",
       "      <th>0</th>\n",
       "      <td>Maruti S PRESSO</td>\n",
       "      <td>2022.0</td>\n",
       "      <td>3878</td>\n",
       "      <td>1</td>\n",
       "      <td>PETROL</td>\n",
       "      <td>Manual</td>\n",
       "      <td>HatchBack</td>\n",
       "      <td>514000</td>\n",
       "    </tr>\n",
       "    <tr>\n",
       "      <th>1</th>\n",
       "      <td>Hyundai Xcent</td>\n",
       "      <td>2018.0</td>\n",
       "      <td>32041</td>\n",
       "      <td>1</td>\n",
       "      <td>PETROL</td>\n",
       "      <td>Manual</td>\n",
       "      <td>Sedan</td>\n",
       "      <td>674000</td>\n",
       "    </tr>\n",
       "    <tr>\n",
       "      <th>2</th>\n",
       "      <td>Tata Safari</td>\n",
       "      <td>2021.0</td>\n",
       "      <td>96339</td>\n",
       "      <td>1</td>\n",
       "      <td>DIESEL</td>\n",
       "      <td>Automatic</td>\n",
       "      <td>SUV</td>\n",
       "      <td>1952000</td>\n",
       "    </tr>\n",
       "    <tr>\n",
       "      <th>3</th>\n",
       "      <td>Maruti Vitara Brezza</td>\n",
       "      <td>2019.0</td>\n",
       "      <td>51718</td>\n",
       "      <td>1</td>\n",
       "      <td>DIESEL</td>\n",
       "      <td>Manual</td>\n",
       "      <td>SUV</td>\n",
       "      <td>690000</td>\n",
       "    </tr>\n",
       "    <tr>\n",
       "      <th>4</th>\n",
       "      <td>Tata Tiago</td>\n",
       "      <td>2021.0</td>\n",
       "      <td>19811</td>\n",
       "      <td>1</td>\n",
       "      <td>PETROL</td>\n",
       "      <td>Manual</td>\n",
       "      <td>HatchBack</td>\n",
       "      <td>526000</td>\n",
       "    </tr>\n",
       "    <tr>\n",
       "      <th>5</th>\n",
       "      <td>Maruti Swift</td>\n",
       "      <td>2017.0</td>\n",
       "      <td>70129</td>\n",
       "      <td>1</td>\n",
       "      <td>PETROL</td>\n",
       "      <td>Manual</td>\n",
       "      <td>HatchBack</td>\n",
       "      <td>552000</td>\n",
       "    </tr>\n",
       "    <tr>\n",
       "      <th>6</th>\n",
       "      <td>Hyundai i20</td>\n",
       "      <td>2012.0</td>\n",
       "      <td>103781</td>\n",
       "      <td>1</td>\n",
       "      <td>PETROL</td>\n",
       "      <td>Manual</td>\n",
       "      <td>HatchBack</td>\n",
       "      <td>278000</td>\n",
       "    </tr>\n",
       "    <tr>\n",
       "      <th>7</th>\n",
       "      <td>Renault Kwid</td>\n",
       "      <td>2021.0</td>\n",
       "      <td>31945</td>\n",
       "      <td>2</td>\n",
       "      <td>PETROL</td>\n",
       "      <td>Automatic</td>\n",
       "      <td>HatchBack</td>\n",
       "      <td>518000</td>\n",
       "    </tr>\n",
       "    <tr>\n",
       "      <th>8</th>\n",
       "      <td>Hyundai Grand i10</td>\n",
       "      <td>2015.0</td>\n",
       "      <td>39950</td>\n",
       "      <td>1</td>\n",
       "      <td>PETROL</td>\n",
       "      <td>Manual</td>\n",
       "      <td>HatchBack</td>\n",
       "      <td>443000</td>\n",
       "    </tr>\n",
       "    <tr>\n",
       "      <th>9</th>\n",
       "      <td>Maruti Swift</td>\n",
       "      <td>2018.0</td>\n",
       "      <td>56697</td>\n",
       "      <td>1</td>\n",
       "      <td>DIESEL</td>\n",
       "      <td>Automatic</td>\n",
       "      <td>HatchBack</td>\n",
       "      <td>710350</td>\n",
       "    </tr>\n",
       "    <tr>\n",
       "      <th>10</th>\n",
       "      <td>Maruti IGNIS</td>\n",
       "      <td>2018.0</td>\n",
       "      <td>38184</td>\n",
       "      <td>2</td>\n",
       "      <td>CNG</td>\n",
       "      <td>Automatic</td>\n",
       "      <td>HatchBack</td>\n",
       "      <td>548000</td>\n",
       "    </tr>\n",
       "    <tr>\n",
       "      <th>11</th>\n",
       "      <td>Maruti S PRESSO</td>\n",
       "      <td>2019.0</td>\n",
       "      <td>30347</td>\n",
       "      <td>1</td>\n",
       "      <td>PETROL</td>\n",
       "      <td>Automatic</td>\n",
       "      <td>HatchBack</td>\n",
       "      <td>481000</td>\n",
       "    </tr>\n",
       "    <tr>\n",
       "      <th>12</th>\n",
       "      <td>Honda Brio</td>\n",
       "      <td>2012.0</td>\n",
       "      <td>42375</td>\n",
       "      <td>2</td>\n",
       "      <td>PETROL</td>\n",
       "      <td>Manual</td>\n",
       "      <td>HatchBack</td>\n",
       "      <td>312000</td>\n",
       "    </tr>\n",
       "    <tr>\n",
       "      <th>13</th>\n",
       "      <td>Hyundai Elite i20</td>\n",
       "      <td>2019.0</td>\n",
       "      <td>47231</td>\n",
       "      <td>1</td>\n",
       "      <td>PETROL</td>\n",
       "      <td>Manual</td>\n",
       "      <td>HatchBack</td>\n",
       "      <td>613000</td>\n",
       "    </tr>\n",
       "    <tr>\n",
       "      <th>14</th>\n",
       "      <td>Honda City</td>\n",
       "      <td>2014.0</td>\n",
       "      <td>111577</td>\n",
       "      <td>1</td>\n",
       "      <td>PETROL</td>\n",
       "      <td>Manual</td>\n",
       "      <td>Sedan</td>\n",
       "      <td>503000</td>\n",
       "    </tr>\n",
       "    <tr>\n",
       "      <th>15</th>\n",
       "      <td>Maruti Baleno</td>\n",
       "      <td>2018.0</td>\n",
       "      <td>60042</td>\n",
       "      <td>1</td>\n",
       "      <td>PETROL</td>\n",
       "      <td>Manual</td>\n",
       "      <td>HatchBack</td>\n",
       "      <td>614000</td>\n",
       "    </tr>\n",
       "    <tr>\n",
       "      <th>16</th>\n",
       "      <td>Honda WR-V</td>\n",
       "      <td>2017.0</td>\n",
       "      <td>93518</td>\n",
       "      <td>1</td>\n",
       "      <td>DIESEL</td>\n",
       "      <td>Manual</td>\n",
       "      <td>SUV</td>\n",
       "      <td>693000</td>\n",
       "    </tr>\n",
       "    <tr>\n",
       "      <th>17</th>\n",
       "      <td>Honda Amaze</td>\n",
       "      <td>2019.0</td>\n",
       "      <td>33245</td>\n",
       "      <td>1</td>\n",
       "      <td>PETROL</td>\n",
       "      <td>Manual</td>\n",
       "      <td>Sedan</td>\n",
       "      <td>439000</td>\n",
       "    </tr>\n",
       "    <tr>\n",
       "      <th>18</th>\n",
       "      <td>Maruti Alto 800</td>\n",
       "      <td>2016.0</td>\n",
       "      <td>43717</td>\n",
       "      <td>1</td>\n",
       "      <td>PETROL</td>\n",
       "      <td>Manual</td>\n",
       "      <td>HatchBack</td>\n",
       "      <td>294000</td>\n",
       "    </tr>\n",
       "    <tr>\n",
       "      <th>19</th>\n",
       "      <td>Maruti Celerio</td>\n",
       "      <td>2021.0</td>\n",
       "      <td>1863</td>\n",
       "      <td>1</td>\n",
       "      <td>PETROL</td>\n",
       "      <td>Automatic</td>\n",
       "      <td>HatchBack</td>\n",
       "      <td>716000</td>\n",
       "    </tr>\n",
       "  </tbody>\n",
       "</table>\n",
       "</div>"
      ],
      "text/plain": [
       "                Car_Name    Year  Distance  Owner    Fuel      Drive  \\\n",
       "0        Maruti S PRESSO  2022.0      3878      1  PETROL     Manual   \n",
       "1          Hyundai Xcent  2018.0     32041      1  PETROL     Manual   \n",
       "2            Tata Safari  2021.0     96339      1  DIESEL  Automatic   \n",
       "3   Maruti Vitara Brezza  2019.0     51718      1  DIESEL     Manual   \n",
       "4             Tata Tiago  2021.0     19811      1  PETROL     Manual   \n",
       "5           Maruti Swift  2017.0     70129      1  PETROL     Manual   \n",
       "6            Hyundai i20  2012.0    103781      1  PETROL     Manual   \n",
       "7           Renault Kwid  2021.0     31945      2  PETROL  Automatic   \n",
       "8      Hyundai Grand i10  2015.0     39950      1  PETROL     Manual   \n",
       "9           Maruti Swift  2018.0     56697      1  DIESEL  Automatic   \n",
       "10          Maruti IGNIS  2018.0     38184      2     CNG  Automatic   \n",
       "11       Maruti S PRESSO  2019.0     30347      1  PETROL  Automatic   \n",
       "12            Honda Brio  2012.0     42375      2  PETROL     Manual   \n",
       "13     Hyundai Elite i20  2019.0     47231      1  PETROL     Manual   \n",
       "14            Honda City  2014.0    111577      1  PETROL     Manual   \n",
       "15         Maruti Baleno  2018.0     60042      1  PETROL     Manual   \n",
       "16            Honda WR-V  2017.0     93518      1  DIESEL     Manual   \n",
       "17           Honda Amaze  2019.0     33245      1  PETROL     Manual   \n",
       "18       Maruti Alto 800  2016.0     43717      1  PETROL     Manual   \n",
       "19        Maruti Celerio  2021.0      1863      1  PETROL  Automatic   \n",
       "\n",
       "         Type    Price  \n",
       "0   HatchBack   514000  \n",
       "1       Sedan   674000  \n",
       "2         SUV  1952000  \n",
       "3         SUV   690000  \n",
       "4   HatchBack   526000  \n",
       "5   HatchBack   552000  \n",
       "6   HatchBack   278000  \n",
       "7   HatchBack   518000  \n",
       "8   HatchBack   443000  \n",
       "9   HatchBack   710350  \n",
       "10  HatchBack   548000  \n",
       "11  HatchBack   481000  \n",
       "12  HatchBack   312000  \n",
       "13  HatchBack   613000  \n",
       "14      Sedan   503000  \n",
       "15  HatchBack   614000  \n",
       "16        SUV   693000  \n",
       "17      Sedan   439000  \n",
       "18  HatchBack   294000  \n",
       "19  HatchBack   716000  "
      ]
     },
     "execution_count": 106,
     "metadata": {},
     "output_type": "execute_result"
    }
   ],
   "source": [
    "df.head(20)"
   ]
  },
  {
   "cell_type": "code",
   "execution_count": null,
   "id": "b5fba365",
   "metadata": {},
   "outputs": [],
   "source": []
  },
  {
   "cell_type": "code",
   "execution_count": 104,
   "id": "06165a94",
   "metadata": {},
   "outputs": [
    {
     "data": {
      "text/plain": [
       "0       2022\n",
       "1       2018\n",
       "2       2021\n",
       "3       2019\n",
       "4       2021\n",
       "        ... \n",
       "8010    2018\n",
       "8011    2018\n",
       "8012    2016\n",
       "8013    2019\n",
       "8014    2022\n",
       "Name: Year, Length: 8014, dtype: Int64"
      ]
     },
     "execution_count": 104,
     "metadata": {},
     "output_type": "execute_result"
    }
   ],
   "source": [
    "df['Year'].astype('Int64')"
   ]
  },
  {
   "cell_type": "code",
   "execution_count": 87,
   "id": "b30df392",
   "metadata": {},
   "outputs": [
    {
     "data": {
      "text/plain": [
       "2018.0    1206\n",
       "2017.0    1161\n",
       "2019.0    1010\n",
       "2016.0     903\n",
       "2021.0     683\n",
       "2015.0     614\n",
       "2020.0     613\n",
       "2014.0     528\n",
       "2013.0     353\n",
       "2012.0     294\n",
       "2022.0     256\n",
       "2011.0     218\n",
       "2010.0     174\n",
       "2023.0       1\n",
       "Name: Year, dtype: int64"
      ]
     },
     "execution_count": 87,
     "metadata": {},
     "output_type": "execute_result"
    }
   ],
   "source": [
    "df['Year'].value_counts()"
   ]
  },
  {
   "cell_type": "code",
   "execution_count": 70,
   "id": "e8cd26e8",
   "metadata": {},
   "outputs": [
    {
     "data": {
      "text/plain": [
       "Car_Name      1\n",
       "Year          1\n",
       "Distance      0\n",
       "Owner         0\n",
       "Fuel          0\n",
       "Location    213\n",
       "Drive         0\n",
       "Type          0\n",
       "Price         0\n",
       "dtype: int64"
      ]
     },
     "execution_count": 70,
     "metadata": {},
     "output_type": "execute_result"
    }
   ],
   "source": [
    "df.isnull().sum()"
   ]
  },
  {
   "cell_type": "code",
   "execution_count": 71,
   "id": "d9e750cc",
   "metadata": {},
   "outputs": [],
   "source": [
    "df.drop('Location', axis=1,inplace=True)"
   ]
  },
  {
   "cell_type": "code",
   "execution_count": 72,
   "id": "dfd5ad6f",
   "metadata": {},
   "outputs": [
    {
     "data": {
      "text/html": [
       "<div>\n",
       "<style scoped>\n",
       "    .dataframe tbody tr th:only-of-type {\n",
       "        vertical-align: middle;\n",
       "    }\n",
       "\n",
       "    .dataframe tbody tr th {\n",
       "        vertical-align: top;\n",
       "    }\n",
       "\n",
       "    .dataframe thead th {\n",
       "        text-align: right;\n",
       "    }\n",
       "</style>\n",
       "<table border=\"1\" class=\"dataframe\">\n",
       "  <thead>\n",
       "    <tr style=\"text-align: right;\">\n",
       "      <th></th>\n",
       "      <th>Car_Name</th>\n",
       "      <th>Year</th>\n",
       "      <th>Distance</th>\n",
       "      <th>Owner</th>\n",
       "      <th>Fuel</th>\n",
       "      <th>Drive</th>\n",
       "      <th>Type</th>\n",
       "      <th>Price</th>\n",
       "    </tr>\n",
       "  </thead>\n",
       "  <tbody>\n",
       "    <tr>\n",
       "      <th>0</th>\n",
       "      <td>Maruti S PRESSO</td>\n",
       "      <td>2022.0</td>\n",
       "      <td>3878</td>\n",
       "      <td>1</td>\n",
       "      <td>PETROL</td>\n",
       "      <td>Manual</td>\n",
       "      <td>HatchBack</td>\n",
       "      <td>514000</td>\n",
       "    </tr>\n",
       "    <tr>\n",
       "      <th>1</th>\n",
       "      <td>Hyundai Xcent</td>\n",
       "      <td>2018.0</td>\n",
       "      <td>32041</td>\n",
       "      <td>1</td>\n",
       "      <td>PETROL</td>\n",
       "      <td>Manual</td>\n",
       "      <td>Sedan</td>\n",
       "      <td>674000</td>\n",
       "    </tr>\n",
       "    <tr>\n",
       "      <th>2</th>\n",
       "      <td>Tata Safari</td>\n",
       "      <td>2021.0</td>\n",
       "      <td>96339</td>\n",
       "      <td>1</td>\n",
       "      <td>DIESEL</td>\n",
       "      <td>Automatic</td>\n",
       "      <td>SUV</td>\n",
       "      <td>1952000</td>\n",
       "    </tr>\n",
       "    <tr>\n",
       "      <th>3</th>\n",
       "      <td>Maruti Vitara Brezza</td>\n",
       "      <td>2019.0</td>\n",
       "      <td>51718</td>\n",
       "      <td>1</td>\n",
       "      <td>DIESEL</td>\n",
       "      <td>Manual</td>\n",
       "      <td>SUV</td>\n",
       "      <td>690000</td>\n",
       "    </tr>\n",
       "    <tr>\n",
       "      <th>4</th>\n",
       "      <td>Tata Tiago</td>\n",
       "      <td>2021.0</td>\n",
       "      <td>19811</td>\n",
       "      <td>1</td>\n",
       "      <td>PETROL</td>\n",
       "      <td>Manual</td>\n",
       "      <td>HatchBack</td>\n",
       "      <td>526000</td>\n",
       "    </tr>\n",
       "  </tbody>\n",
       "</table>\n",
       "</div>"
      ],
      "text/plain": [
       "               Car_Name    Year  Distance  Owner    Fuel      Drive  \\\n",
       "0       Maruti S PRESSO  2022.0      3878      1  PETROL     Manual   \n",
       "1         Hyundai Xcent  2018.0     32041      1  PETROL     Manual   \n",
       "2           Tata Safari  2021.0     96339      1  DIESEL  Automatic   \n",
       "3  Maruti Vitara Brezza  2019.0     51718      1  DIESEL     Manual   \n",
       "4            Tata Tiago  2021.0     19811      1  PETROL     Manual   \n",
       "\n",
       "        Type    Price  \n",
       "0  HatchBack   514000  \n",
       "1      Sedan   674000  \n",
       "2        SUV  1952000  \n",
       "3        SUV   690000  \n",
       "4  HatchBack   526000  "
      ]
     },
     "execution_count": 72,
     "metadata": {},
     "output_type": "execute_result"
    }
   ],
   "source": [
    "df.head()"
   ]
  },
  {
   "cell_type": "code",
   "execution_count": 73,
   "id": "6c4dcdc4",
   "metadata": {},
   "outputs": [
    {
     "data": {
      "text/plain": [
       "Car_Name    1\n",
       "Year        1\n",
       "Distance    0\n",
       "Owner       0\n",
       "Fuel        0\n",
       "Drive       0\n",
       "Type        0\n",
       "Price       0\n",
       "dtype: int64"
      ]
     },
     "execution_count": 73,
     "metadata": {},
     "output_type": "execute_result"
    }
   ],
   "source": [
    "df.isnull().sum()"
   ]
  },
  {
   "cell_type": "code",
   "execution_count": 74,
   "id": "e819ec5e",
   "metadata": {},
   "outputs": [],
   "source": [
    "df.dropna(inplace=True)"
   ]
  },
  {
   "cell_type": "code",
   "execution_count": 75,
   "id": "94d17cd5",
   "metadata": {},
   "outputs": [
    {
     "data": {
      "text/plain": [
       "Car_Name    0\n",
       "Year        0\n",
       "Distance    0\n",
       "Owner       0\n",
       "Fuel        0\n",
       "Drive       0\n",
       "Type        0\n",
       "Price       0\n",
       "dtype: int64"
      ]
     },
     "execution_count": 75,
     "metadata": {},
     "output_type": "execute_result"
    }
   ],
   "source": [
    "df.isnull().sum()"
   ]
  },
  {
   "cell_type": "code",
   "execution_count": 76,
   "id": "2eeff836",
   "metadata": {},
   "outputs": [
    {
     "data": {
      "text/plain": [
       "(8014, 8)"
      ]
     },
     "execution_count": 76,
     "metadata": {},
     "output_type": "execute_result"
    }
   ],
   "source": [
    "df.shape"
   ]
  },
  {
   "cell_type": "code",
   "execution_count": 77,
   "id": "b39dcfb3",
   "metadata": {},
   "outputs": [
    {
     "data": {
      "text/html": [
       "<div>\n",
       "<style scoped>\n",
       "    .dataframe tbody tr th:only-of-type {\n",
       "        vertical-align: middle;\n",
       "    }\n",
       "\n",
       "    .dataframe tbody tr th {\n",
       "        vertical-align: top;\n",
       "    }\n",
       "\n",
       "    .dataframe thead th {\n",
       "        text-align: right;\n",
       "    }\n",
       "</style>\n",
       "<table border=\"1\" class=\"dataframe\">\n",
       "  <thead>\n",
       "    <tr style=\"text-align: right;\">\n",
       "      <th></th>\n",
       "      <th>Car_Name</th>\n",
       "      <th>Year</th>\n",
       "      <th>Distance</th>\n",
       "      <th>Owner</th>\n",
       "      <th>Fuel</th>\n",
       "      <th>Drive</th>\n",
       "      <th>Type</th>\n",
       "      <th>Price</th>\n",
       "    </tr>\n",
       "  </thead>\n",
       "  <tbody>\n",
       "    <tr>\n",
       "      <th>0</th>\n",
       "      <td>Maruti S PRESSO</td>\n",
       "      <td>2022.0</td>\n",
       "      <td>3878</td>\n",
       "      <td>1</td>\n",
       "      <td>PETROL</td>\n",
       "      <td>Manual</td>\n",
       "      <td>HatchBack</td>\n",
       "      <td>514000</td>\n",
       "    </tr>\n",
       "    <tr>\n",
       "      <th>1</th>\n",
       "      <td>Hyundai Xcent</td>\n",
       "      <td>2018.0</td>\n",
       "      <td>32041</td>\n",
       "      <td>1</td>\n",
       "      <td>PETROL</td>\n",
       "      <td>Manual</td>\n",
       "      <td>Sedan</td>\n",
       "      <td>674000</td>\n",
       "    </tr>\n",
       "    <tr>\n",
       "      <th>2</th>\n",
       "      <td>Tata Safari</td>\n",
       "      <td>2021.0</td>\n",
       "      <td>96339</td>\n",
       "      <td>1</td>\n",
       "      <td>DIESEL</td>\n",
       "      <td>Automatic</td>\n",
       "      <td>SUV</td>\n",
       "      <td>1952000</td>\n",
       "    </tr>\n",
       "    <tr>\n",
       "      <th>3</th>\n",
       "      <td>Maruti Vitara Brezza</td>\n",
       "      <td>2019.0</td>\n",
       "      <td>51718</td>\n",
       "      <td>1</td>\n",
       "      <td>DIESEL</td>\n",
       "      <td>Manual</td>\n",
       "      <td>SUV</td>\n",
       "      <td>690000</td>\n",
       "    </tr>\n",
       "    <tr>\n",
       "      <th>4</th>\n",
       "      <td>Tata Tiago</td>\n",
       "      <td>2021.0</td>\n",
       "      <td>19811</td>\n",
       "      <td>1</td>\n",
       "      <td>PETROL</td>\n",
       "      <td>Manual</td>\n",
       "      <td>HatchBack</td>\n",
       "      <td>526000</td>\n",
       "    </tr>\n",
       "  </tbody>\n",
       "</table>\n",
       "</div>"
      ],
      "text/plain": [
       "               Car_Name    Year  Distance  Owner    Fuel      Drive  \\\n",
       "0       Maruti S PRESSO  2022.0      3878      1  PETROL     Manual   \n",
       "1         Hyundai Xcent  2018.0     32041      1  PETROL     Manual   \n",
       "2           Tata Safari  2021.0     96339      1  DIESEL  Automatic   \n",
       "3  Maruti Vitara Brezza  2019.0     51718      1  DIESEL     Manual   \n",
       "4            Tata Tiago  2021.0     19811      1  PETROL     Manual   \n",
       "\n",
       "        Type    Price  \n",
       "0  HatchBack   514000  \n",
       "1      Sedan   674000  \n",
       "2        SUV  1952000  \n",
       "3        SUV   690000  \n",
       "4  HatchBack   526000  "
      ]
     },
     "execution_count": 77,
     "metadata": {},
     "output_type": "execute_result"
    }
   ],
   "source": [
    "df.head()"
   ]
  },
  {
   "cell_type": "code",
   "execution_count": 81,
   "id": "706a212c",
   "metadata": {},
   "outputs": [
    {
     "data": {
      "text/plain": [
       "PETROL    6412\n",
       "DIESEL    1066\n",
       "CNG        535\n",
       "LPG          1\n",
       "Name: Fuel, dtype: int64"
      ]
     },
     "execution_count": 81,
     "metadata": {},
     "output_type": "execute_result"
    }
   ],
   "source": [
    "df['Fuel'].value_counts()"
   ]
  },
  {
   "cell_type": "code",
   "execution_count": 82,
   "id": "17dae857",
   "metadata": {},
   "outputs": [
    {
     "data": {
      "text/plain": [
       "Manual       6455\n",
       "Automatic    1559\n",
       "Name: Drive, dtype: int64"
      ]
     },
     "execution_count": 82,
     "metadata": {},
     "output_type": "execute_result"
    }
   ],
   "source": [
    "df['Drive'].value_counts()"
   ]
  },
  {
   "cell_type": "code",
   "execution_count": 105,
   "id": "f2a9dc72",
   "metadata": {},
   "outputs": [
    {
     "data": {
      "text/plain": [
       "<Axes: >"
      ]
     },
     "execution_count": 105,
     "metadata": {},
     "output_type": "execute_result"
    },
    {
     "data": {
      "image/png": "[encoded data removed]",
      "text/plain": [
       "<Figure size 640x480 with 1 Axes>"
      ]
     },
     "metadata": {},
     "output_type": "display_data"
    }
   ],
   "source": [
    "car_type = df['Type'].value_counts()\n",
    "car_type.plot(kind='bar')"
   ]
  },
  {
   "cell_type": "code",
   "execution_count": 88,
   "id": "09957755",
   "metadata": {},
   "outputs": [
    {
     "data": {
      "text/plain": [
       "1    5811\n",
       "2    2001\n",
       "3     201\n",
       "4       1\n",
       "Name: Owner, dtype: int64"
      ]
     },
     "execution_count": 88,
     "metadata": {},
     "output_type": "execute_result"
    }
   ],
   "source": [
    "df['Owner'].value_counts()"
   ]
  },
  {
   "cell_type": "code",
   "execution_count": 98,
   "id": "ce914a68",
   "metadata": {},
   "outputs": [],
   "source": [
    "fuel_df = df.groupby('Fuel')[['Price','Car_Name','Type']].max()"
   ]
  },
  {
   "cell_type": "code",
   "execution_count": 99,
   "id": "743c3ba5",
   "metadata": {},
   "outputs": [
    {
     "data": {
      "text/html": [
       "<div>\n",
       "<style scoped>\n",
       "    .dataframe tbody tr th:only-of-type {\n",
       "        vertical-align: middle;\n",
       "    }\n",
       "\n",
       "    .dataframe tbody tr th {\n",
       "        vertical-align: top;\n",
       "    }\n",
       "\n",
       "    .dataframe thead th {\n",
       "        text-align: right;\n",
       "    }\n",
       "</style>\n",
       "<table border=\"1\" class=\"dataframe\">\n",
       "  <thead>\n",
       "    <tr style=\"text-align: right;\">\n",
       "      <th></th>\n",
       "      <th>Price</th>\n",
       "      <th>Car_Name</th>\n",
       "      <th>Type</th>\n",
       "    </tr>\n",
       "    <tr>\n",
       "      <th>Fuel</th>\n",
       "      <th></th>\n",
       "      <th></th>\n",
       "      <th></th>\n",
       "    </tr>\n",
       "  </thead>\n",
       "  <tbody>\n",
       "    <tr>\n",
       "      <th>CNG</th>\n",
       "      <td>1171000</td>\n",
       "      <td>Volkswagen Ameo</td>\n",
       "      <td>Sedan</td>\n",
       "    </tr>\n",
       "    <tr>\n",
       "      <th>DIESEL</th>\n",
       "      <td>2683000</td>\n",
       "      <td>Volkswagen Vento</td>\n",
       "      <td>Sedan</td>\n",
       "    </tr>\n",
       "    <tr>\n",
       "      <th>LPG</th>\n",
       "      <td>317000</td>\n",
       "      <td>Hyundai i10</td>\n",
       "      <td>HatchBack</td>\n",
       "    </tr>\n",
       "    <tr>\n",
       "      <th>PETROL</th>\n",
       "      <td>3300000</td>\n",
       "      <td>Volkswagen Vento</td>\n",
       "      <td>Sedan</td>\n",
       "    </tr>\n",
       "  </tbody>\n",
       "</table>\n",
       "</div>"
      ],
      "text/plain": [
       "          Price          Car_Name       Type\n",
       "Fuel                                        \n",
       "CNG     1171000   Volkswagen Ameo      Sedan\n",
       "DIESEL  2683000  Volkswagen Vento      Sedan\n",
       "LPG      317000       Hyundai i10  HatchBack\n",
       "PETROL  3300000  Volkswagen Vento      Sedan"
      ]
     },
     "execution_count": 99,
     "metadata": {},
     "output_type": "execute_result"
    }
   ],
   "source": [
    "fuel_df"
   ]
  },
  {
   "cell_type": "code",
   "execution_count": 101,
   "id": "458b17e1",
   "metadata": {},
   "outputs": [],
   "source": [
    "Fuel_type = df['Fuel'].unique().tolist()\n",
    "Fuel_type.sort()\n",
    "Fuel_type.insert(0,'All Types')"
   ]
  },
  {
   "cell_type": "code",
   "execution_count": null,
   "id": "bfca3b3a",
   "metadata": {},
   "outputs": [],
   "source": []
  },
  {
   "cell_type": "code",
   "execution_count": null,
   "id": "6f1f6d2f",
   "metadata": {},
   "outputs": [],
   "source": []
  },
  {
   "cell_type": "code",
   "execution_count": null,
   "id": "c963aa0c",
   "metadata": {},
   "outputs": [],
   "source": []
  },
  {
   "cell_type": "code",
   "execution_count": null,
   "id": "a285253f",
   "metadata": {},
   "outputs": [],
   "source": []
  },
  {
   "cell_type": "code",
   "execution_count": null,
   "id": "68df2f84",
   "metadata": {},
   "outputs": [],
   "source": []
  },
  {
   "cell_type": "code",
   "execution_count": null,
   "id": "5e2522bc",
   "metadata": {},
   "outputs": [],
   "source": []
  },
  {
   "cell_type": "code",
   "execution_count": null,
   "id": "bbaf6930",
   "metadata": {},
   "outputs": [],
   "source": []
  },
  {
   "cell_type": "code",
   "execution_count": null,
   "id": "95471a37",
   "metadata": {},
   "outputs": [],
   "source": []
  }
 ],
 "metadata": {
  "kernelspec": {
   "display_name": "Python 3 (ipykernel)",
   "language": "python",
   "name": "python3"
  },
  "language_info": {
   "codemirror_mode": {
    "name": "ipython",
    "version": 3
   },
   "file_extension": ".py",
   "mimetype": "text/x-python",
   "name": "python",
   "nbconvert_exporter": "python",
   "pygments_lexer": "ipython3",
   "version": "3.10.11"
  }
 },
 "nbformat": 4,
 "nbformat_minor": 5
}
